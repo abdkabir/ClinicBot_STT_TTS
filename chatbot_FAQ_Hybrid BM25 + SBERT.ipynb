{
 "cells": [
  {
   "cell_type": "markdown",
   "id": "cb5b4ef5-ca65-4506-915c-ee20928dcf47",
   "metadata": {},
   "source": [
    "hybrid_bm25_sbert_chatbot (Hybrid BM25 + SBERT: Untuk hasil maksimal.)\n",
    "Penjelasan:\n",
    "BM25 mengambil 5 kandidat teratas berdasarkan keyword.\n",
    "SBERT menghitung similarity semantic antara pertanyaan user dan kandidat.\n",
    "Top 3 jawaban paling mirip ditampilkan, urut berdasarkan kemiripan semantic."
   ]
  },
  {
   "cell_type": "code",
   "execution_count": 2,
   "id": "c78a1c14-3d3e-4b35-8ced-8d63b722017e",
   "metadata": {},
   "outputs": [],
   "source": [
    "import json\n",
    "from rank_bm25 import BM25Okapi\n",
    "from sentence_transformers import SentenceTransformer, util"
   ]
  },
  {
   "cell_type": "code",
   "execution_count": 3,
   "id": "494c96ae-c059-47fb-b2c0-bb81912f3325",
   "metadata": {},
   "outputs": [],
   "source": [
    "# ===== LOAD DATASET =====\n",
    "with open(\"data/pertanyaan_jawaban.json\", \"r\", encoding=\"utf-8\") as f:\n",
    "    faq_data = json.load(f)\n",
    "\n",
    "faq_questions = [item[\"pertanyaan\"] for item in faq_data]\n",
    "faq_answers = [item[\"jawaban\"] for item in faq_data]"
   ]
  },
  {
   "cell_type": "code",
   "execution_count": 4,
   "id": "8cd635b6-73fc-4d13-8432-6b1aedf739bb",
   "metadata": {},
   "outputs": [],
   "source": [
    "# ===== INISIALISASI BM25 DAN SBERT =====\n",
    "tokenized_questions = [q.lower().split() for q in faq_questions]\n",
    "bm25 = BM25Okapi(tokenized_questions)\n",
    "sbert_model = SentenceTransformer('paraphrase-multilingual-MiniLM-L12-v2')\n",
    "faq_embeddings = sbert_model.encode(faq_questions)"
   ]
  },
  {
   "cell_type": "code",
   "execution_count": 5,
   "id": "f69f7db6-8380-4b92-a17e-121318a34386",
   "metadata": {},
   "outputs": [
    {
     "name": "stdout",
     "output_type": "stream",
     "text": [
      "Chatbot Hybrid BM25 + SBERT (FAQ)\n",
      "----------------------------------\n"
     ]
    },
    {
     "name": "stdin",
     "output_type": "stream",
     "text": [
      "\n",
      "Tulis pertanyaanmu (atau ketik 'selesai' untuk keluar):  siapa anda\n"
     ]
    },
    {
     "name": "stderr",
     "output_type": "stream",
     "text": [
      "/Users/abdulkabir/.pyenv/versions/3.10.13/lib/python3.10/site-packages/sentence_transformers/util.py:44: UserWarning: Creating a tensor from a list of numpy.ndarrays is extremely slow. Please consider converting the list to a single numpy.ndarray with numpy.array() before converting to a tensor. (Triggered internally at /Users/runner/work/pytorch/pytorch/pytorch/torch/csrc/utils/tensor_new.cpp:278.)\n",
      "  a = torch.tensor(a)\n"
     ]
    },
    {
     "name": "stdout",
     "output_type": "stream",
     "text": [
      "\n",
      "Top jawaban paling relevan:\n",
      "\n",
      "1. Pertanyaan mirip: Apakah Anda merasa leher Anda kaku?\n",
      "   Jawaban       : Saya mengalami demam tinggi disertai mual.\n",
      "   Skor kemiripan: 0.2929\n",
      "\n",
      "2. Pertanyaan mirip: Apakah Anda merasa mata Anda merah atau iritasi?\n",
      "   Jawaban       : Iya, mata saya terlihat merah dan terasa iritasi.\n",
      "   Skor kemiripan: 0.2390\n",
      "\n",
      "3. Pertanyaan mirip: Apakah Anda merasa kulit Anda berubah atau mengalami ruam?\n",
      "   Jawaban       : Saya mengalami ruam pada kulit dan merasa lelah.\n",
      "   Skor kemiripan: 0.1901\n"
     ]
    },
    {
     "name": "stdin",
     "output_type": "stream",
     "text": [
      "\n",
      "Tulis pertanyaanmu (atau ketik 'selesai' untuk keluar):  saya mengalami ruam\n"
     ]
    },
    {
     "name": "stdout",
     "output_type": "stream",
     "text": [
      "\n",
      "Top jawaban paling relevan:\n",
      "\n",
      "1. Pertanyaan mirip: Apakah Anda merasa kulit Anda berubah atau mengalami ruam?\n",
      "   Jawaban       : Saya mengalami ruam pada kulit dan merasa lelah.\n",
      "   Skor kemiripan: 0.4650\n",
      "\n",
      "2. Pertanyaan mirip: Apakah Anda mengalami perdarahan dari gusi atau hidung?\n",
      "   Jawaban       : Ya, saya sering mengalami pendarahan di gusi dan hidung.\n",
      "   Skor kemiripan: 0.4076\n",
      "\n",
      "3. Pertanyaan mirip: Apakah ada ruam atau pembengkakan pada tangan atau kaki?\n",
      "   Jawaban       : Saya mengalami ruam pada tubuh dan kaki terasa bengkak.\n",
      "   Skor kemiripan: 0.4013\n"
     ]
    },
    {
     "name": "stdin",
     "output_type": "stream",
     "text": [
      "\n",
      "Tulis pertanyaanmu (atau ketik 'selesai' untuk keluar):  pertanyaan\"Bagaimana cara kerja chatbot?\"\n"
     ]
    },
    {
     "name": "stdout",
     "output_type": "stream",
     "text": [
      "\n",
      "Top jawaban paling relevan:\n",
      "\n",
      "1. Pertanyaan mirip: Bagaimana cara kerja chatbot?\n",
      "   Jawaban       : Chatbot memproses input pengguna dan menghasilkan respons otomatis, bisa berbasis aturan atau AI.\n",
      "   Skor kemiripan: 0.8943\n",
      "\n",
      "2. Pertanyaan mirip: Apa itu BERT?\n",
      "   Jawaban       : BERT adalah model transformer untuk NLP yang dikembangkan oleh Google.\n",
      "   Skor kemiripan: 0.3369\n",
      "\n",
      "3. Pertanyaan mirip: Bagaimana cara training model AI?\n",
      "   Jawaban       : Model AI dilatih dengan data agar dapat mempelajari pola dan membuat prediksi.\n",
      "   Skor kemiripan: 0.2755\n"
     ]
    },
    {
     "name": "stdin",
     "output_type": "stream",
     "text": [
      "\n",
      "Tulis pertanyaanmu (atau ketik 'selesai' untuk keluar):  selesai\n"
     ]
    }
   ],
   "source": [
    "def hybrid_search(user_question, bm25_top_n=5, sbert_top_k=3):\n",
    "    # Step 1. BM25 retrieval\n",
    "    tokenized_query = user_question.lower().split()\n",
    "    bm25_scores = bm25.get_scores(tokenized_query)\n",
    "    bm25_top_indices = sorted(range(len(bm25_scores)), key=lambda i: bm25_scores[i], reverse=True)[:bm25_top_n]\n",
    "\n",
    "    # Step 2. SBERT rerank\n",
    "    candidate_questions = [faq_questions[i] for i in bm25_top_indices]\n",
    "    candidate_answers = [faq_answers[i] for i in bm25_top_indices]\n",
    "    candidate_embeddings = [faq_embeddings[i] for i in bm25_top_indices]\n",
    "    user_embedding = sbert_model.encode([user_question])[0]\n",
    "    cos_sims = util.cos_sim(user_embedding, candidate_embeddings)[0].cpu().tolist()\n",
    "\n",
    "    # Pair and rerank\n",
    "    pairs = list(zip(bm25_top_indices, candidate_questions, candidate_answers, cos_sims))\n",
    "    pairs = sorted(pairs, key=lambda x: x[3], reverse=True)  # sort by SBERT cosine similarity\n",
    "\n",
    "    # Ambil top K hasil\n",
    "    return pairs[:sbert_top_k]\n",
    "\n",
    "if __name__ == \"__main__\":\n",
    "    print(\"Chatbot Hybrid BM25 + SBERT (FAQ)\")\n",
    "    print(\"----------------------------------\")\n",
    "    while True:\n",
    "        user_question = input(\"\\nTulis pertanyaanmu (atau ketik 'selesai' untuk keluar): \")\n",
    "        if user_question.lower() == \"selesai\":\n",
    "            break\n",
    "        results = hybrid_search(user_question)\n",
    "        print(\"\\nTop jawaban paling relevan:\")\n",
    "        for i, (idx, q, a, score) in enumerate(results, 1):\n",
    "            print(f\"\\n{i}. Pertanyaan mirip: {q}\")\n",
    "            print(f\"   Jawaban       : {a}\")\n",
    "            print(f\"   Skor kemiripan: {score:.4f}\")"
   ]
  },
  {
   "cell_type": "code",
   "execution_count": null,
   "id": "b6a9d082-ac94-4ae4-879d-af50e2d258dd",
   "metadata": {},
   "outputs": [],
   "source": []
  }
 ],
 "metadata": {
  "kernelspec": {
   "display_name": "Python 3 (ipykernel)",
   "language": "python",
   "name": "python3"
  },
  "language_info": {
   "codemirror_mode": {
    "name": "ipython",
    "version": 3
   },
   "file_extension": ".py",
   "mimetype": "text/x-python",
   "name": "python",
   "nbconvert_exporter": "python",
   "pygments_lexer": "ipython3",
   "version": "3.10.13"
  }
 },
 "nbformat": 4,
 "nbformat_minor": 5
}
