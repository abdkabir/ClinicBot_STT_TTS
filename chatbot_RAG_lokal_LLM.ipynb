{
 "cells": [
  {
   "cell_type": "markdown",
   "id": "9959db6c-e336-4ced-8c15-98ed07162bce",
   "metadata": {},
   "source": [
    "Berikut contoh alur RAG lokal:\n",
    "rag_local_llm.py\n",
    "Retriever: Hybrid BM25 + SBERT (seperti sebelumnya)\n",
    "Generator: LLM lokal, misal Llama-3, Gemma, atau Mistral (via llama-cpp-python atau transformers)"
   ]
  },
  {
   "cell_type": "code",
   "execution_count": 1,
   "id": "c78a1c14-3d3e-4b35-8ced-8d63b722017e",
   "metadata": {},
   "outputs": [
    {
     "name": "stderr",
     "output_type": "stream",
     "text": [
      "2025-06-07 06:52:36.330752: I tensorflow/core/platform/cpu_feature_guard.cc:210] This TensorFlow binary is optimized to use available CPU instructions in performance-critical operations.\n",
      "To enable the following instructions: AVX2 AVX512F AVX512_VNNI FMA, in other operations, rebuild TensorFlow with the appropriate compiler flags.\n"
     ]
    }
   ],
   "source": [
    "import json\n",
    "from rank_bm25 import BM25Okapi\n",
    "from sentence_transformers import SentenceTransformer, util\n",
    "from llama_cpp import Llama"
   ]
  },
  {
   "cell_type": "code",
   "execution_count": 2,
   "id": "494c96ae-c059-47fb-b2c0-bb81912f3325",
   "metadata": {},
   "outputs": [],
   "source": [
    "# === LOAD KNOWLEDGE BASE ===\n",
    "with open(\"data/pertanyaan_jawaban.json\", \"r\", encoding=\"utf-8\") as f:\n",
    "    kb_data = json.load(f)\n",
    "\n",
    "kb_questions = [item[\"pertanyaan\"] for item in kb_data]\n",
    "kb_answers = [item[\"jawaban\"] for item in kb_data]\n"
   ]
  },
  {
   "cell_type": "code",
   "execution_count": 3,
   "id": "8cd635b6-73fc-4d13-8432-6b1aedf739bb",
   "metadata": {},
   "outputs": [],
   "source": [
    "# === INISIALISASI BM25 DAN SBERT ===\n",
    "tokenized_questions = [q.lower().split() for q in kb_questions]\n",
    "bm25 = BM25Okapi(tokenized_questions)\n",
    "sbert_model = SentenceTransformer('paraphrase-multilingual-MiniLM-L12-v2')\n",
    "kb_embeddings = sbert_model.encode(kb_questions)\n"
   ]
  },
  {
   "cell_type": "code",
   "execution_count": 4,
   "id": "f69f7db6-8380-4b92-a17e-121318a34386",
   "metadata": {},
   "outputs": [
    {
     "ename": "ValueError",
     "evalue": "Model path does not exist: llama-3-8b-instruct.Q4_K_M.gguf",
     "output_type": "error",
     "traceback": [
      "\u001b[0;31m---------------------------------------------------------------------------\u001b[0m",
      "\u001b[0;31mValueError\u001b[0m                                Traceback (most recent call last)",
      "Cell \u001b[0;32mIn[4], line 3\u001b[0m\n\u001b[1;32m      1\u001b[0m \u001b[38;5;66;03m# === INISIALISASI LLM LOKAL (llama.cpp) ===\u001b[39;00m\n\u001b[1;32m      2\u001b[0m \u001b[38;5;66;03m# Ganti path ke model GGUF kamu (misal: \"llama-3-8b-instruct.Q4_K_M.gguf\")\u001b[39;00m\n\u001b[0;32m----> 3\u001b[0m llm \u001b[38;5;241m=\u001b[39m \u001b[43mLlama\u001b[49m\u001b[43m(\u001b[49m\u001b[43mmodel_path\u001b[49m\u001b[38;5;241;43m=\u001b[39;49m\u001b[38;5;124;43m\"\u001b[39;49m\u001b[38;5;124;43mllama-3-8b-instruct.Q4_K_M.gguf\u001b[39;49m\u001b[38;5;124;43m\"\u001b[39;49m\u001b[43m,\u001b[49m\u001b[43m \u001b[49m\u001b[43mn_ctx\u001b[49m\u001b[38;5;241;43m=\u001b[39;49m\u001b[38;5;241;43m2048\u001b[39;49m\u001b[43m,\u001b[49m\u001b[43m \u001b[49m\u001b[43mverbose\u001b[49m\u001b[38;5;241;43m=\u001b[39;49m\u001b[38;5;28;43;01mFalse\u001b[39;49;00m\u001b[43m)\u001b[49m\n\u001b[1;32m      5\u001b[0m \u001b[38;5;28;01mdef\u001b[39;00m\u001b[38;5;250m \u001b[39m\u001b[38;5;21mhybrid_retrieve\u001b[39m(user_question, bm25_top_n\u001b[38;5;241m=\u001b[39m\u001b[38;5;241m5\u001b[39m, sbert_top_k\u001b[38;5;241m=\u001b[39m\u001b[38;5;241m3\u001b[39m):\n\u001b[1;32m      6\u001b[0m     tokenized_query \u001b[38;5;241m=\u001b[39m user_question\u001b[38;5;241m.\u001b[39mlower()\u001b[38;5;241m.\u001b[39msplit()\n",
      "File \u001b[0;32m~/.pyenv/versions/3.10.13/lib/python3.10/site-packages/llama_cpp/llama.py:368\u001b[0m, in \u001b[0;36mLlama.__init__\u001b[0;34m(self, model_path, n_gpu_layers, split_mode, main_gpu, tensor_split, rpc_servers, vocab_only, use_mmap, use_mlock, kv_overrides, seed, n_ctx, n_batch, n_ubatch, n_threads, n_threads_batch, rope_scaling_type, pooling_type, rope_freq_base, rope_freq_scale, yarn_ext_factor, yarn_attn_factor, yarn_beta_fast, yarn_beta_slow, yarn_orig_ctx, logits_all, embedding, offload_kqv, flash_attn, no_perf, last_n_tokens_size, lora_base, lora_scale, lora_path, numa, chat_format, chat_handler, draft_model, tokenizer, type_k, type_v, spm_infill, verbose, **kwargs)\u001b[0m\n\u001b[1;32m    365\u001b[0m \u001b[38;5;28mself\u001b[39m\u001b[38;5;241m.\u001b[39mspm_infill \u001b[38;5;241m=\u001b[39m spm_infill\n\u001b[1;32m    367\u001b[0m \u001b[38;5;28;01mif\u001b[39;00m \u001b[38;5;129;01mnot\u001b[39;00m os\u001b[38;5;241m.\u001b[39mpath\u001b[38;5;241m.\u001b[39mexists(model_path):\n\u001b[0;32m--> 368\u001b[0m     \u001b[38;5;28;01mraise\u001b[39;00m \u001b[38;5;167;01mValueError\u001b[39;00m(\u001b[38;5;124mf\u001b[39m\u001b[38;5;124m\"\u001b[39m\u001b[38;5;124mModel path does not exist: \u001b[39m\u001b[38;5;132;01m{\u001b[39;00mmodel_path\u001b[38;5;132;01m}\u001b[39;00m\u001b[38;5;124m\"\u001b[39m)\n\u001b[1;32m    370\u001b[0m \u001b[38;5;28mself\u001b[39m\u001b[38;5;241m.\u001b[39m_model \u001b[38;5;241m=\u001b[39m \u001b[38;5;28mself\u001b[39m\u001b[38;5;241m.\u001b[39m_stack\u001b[38;5;241m.\u001b[39menter_context(\n\u001b[1;32m    371\u001b[0m     contextlib\u001b[38;5;241m.\u001b[39mclosing(\n\u001b[1;32m    372\u001b[0m         internals\u001b[38;5;241m.\u001b[39mLlamaModel(\n\u001b[0;32m   (...)\u001b[0m\n\u001b[1;32m    377\u001b[0m     )\n\u001b[1;32m    378\u001b[0m )\n\u001b[1;32m    380\u001b[0m \u001b[38;5;66;03m# Override tokenizer\u001b[39;00m\n",
      "\u001b[0;31mValueError\u001b[0m: Model path does not exist: llama-3-8b-instruct.Q4_K_M.gguf"
     ]
    }
   ],
   "source": [
    "# === INISIALISASI LLM LOKAL (llama.cpp) ===\n",
    "# Ganti path ke model GGUF kamu (misal: \"llama-3-8b-instruct.Q4_K_M.gguf\")\n",
    "llm = Llama(model_path=\"llama-3-8b-instruct.Q4_K_M.gguf\", n_ctx=2048, verbose=False)\n",
    "\n",
    "def hybrid_retrieve(user_question, bm25_top_n=5, sbert_top_k=3):\n",
    "    tokenized_query = user_question.lower().split()\n",
    "    bm25_scores = bm25.get_scores(tokenized_query)\n",
    "    bm25_top_indices = sorted(range(len(bm25_scores)), key=lambda i: bm25_scores[i], reverse=True)[:bm25_top_n]\n",
    "\n",
    "    candidate_questions = [kb_questions[i] for i in bm25_top_indices]\n",
    "    candidate_answers = [kb_answers[i] for i in bm25_top_indices]\n",
    "    candidate_embeddings = [kb_embeddings[i] for i in bm25_top_indices]\n",
    "    user_embedding = sbert_model.encode([user_question])[0]\n",
    "    cos_sims = util.cos_sim(user_embedding, candidate_embeddings)[0].cpu().tolist()\n",
    "\n",
    "    pairs = list(zip(bm25_top_indices, candidate_questions, candidate_answers, cos_sims))\n",
    "    pairs = sorted(pairs, key=lambda x: x[3], reverse=True)  # sort by SBERT similarity\n",
    "\n",
    "    return pairs[:sbert_top_k]\n",
    "\n",
    "def generate_answer_llama(query, contexts):\n",
    "    context_text = \"\\n\".join([f\"Q: {q}\\nA: {a}\" for _, q, a, _ in contexts])\n",
    "    prompt = (\n",
    "        f\"Konteks berikut berisi informasi dari knowledge base:\\n{context_text}\\n\\n\"\n",
    "        f\"Pertanyaan: {query}\\n\"\n",
    "        f\"Jawablah pertanyaan ini secara lengkap dan jelas berdasarkan informasi di atas.\"\n",
    "    )\n",
    "    # Llama.cpp API\n",
    "    response = llm(prompt=prompt, max_tokens=256, temperature=0.2, stop=[\"Q:\", \"\\n\\n\"])\n",
    "    # Ambil hasil\n",
    "    return response[\"choices\"][0][\"text\"].strip()\n",
    "\n",
    "if __name__ == \"__main__\":\n",
    "    print(\"Chatbot RAG Lokal (Hybrid Retrieval + LLM Lokal)\")\n",
    "    print(\"-----------------------------------------------\")\n",
    "    while True:\n",
    "        user_question = input(\"\\nTulis pertanyaanmu (atau ketik 'selesai' untuk keluar): \")\n",
    "        if user_question.lower() == \"selesai\":\n",
    "            break\n",
    "\n",
    "        # Step 1: Hybrid Retrieve\n",
    "        contexts = hybrid_retrieve(user_question)\n",
    "        print(\"\\nDokumen paling relevan (knowledge base):\")\n",
    "        for i, (_, q, a, s) in enumerate(contexts, 1):\n",
    "            print(f\"{i}. Q: {q}\\n   A: {a}\\n   Skor kemiripan: {s:.4f}\")\n",
    "\n",
    "        # Step 2: Generasi Jawaban\n",
    "        answer = generate_answer_llama(user_question, contexts)\n",
    "        print(\"\\n=== Jawaban Generatif (LLM Lokal) ===\")\n",
    "        print(answer)"
   ]
  },
  {
   "cell_type": "code",
   "execution_count": null,
   "id": "b6a9d082-ac94-4ae4-879d-af50e2d258dd",
   "metadata": {},
   "outputs": [],
   "source": []
  }
 ],
 "metadata": {
  "kernelspec": {
   "display_name": "Python 3 (ipykernel)",
   "language": "python",
   "name": "python3"
  },
  "language_info": {
   "codemirror_mode": {
    "name": "ipython",
    "version": 3
   },
   "file_extension": ".py",
   "mimetype": "text/x-python",
   "name": "python",
   "nbconvert_exporter": "python",
   "pygments_lexer": "ipython3",
   "version": "3.10.13"
  }
 },
 "nbformat": 4,
 "nbformat_minor": 5
}
